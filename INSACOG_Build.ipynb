{
  "nbformat": 4,
  "nbformat_minor": 0,
  "metadata": {
    "colab": {
      "provenance": []
    },
    "kernelspec": {
      "name": "python3",
      "display_name": "Python 3"
    },
    "language_info": {
      "name": "python"
    }
  },
  "cells": [
    {
      "cell_type": "markdown",
      "source": [
        "# Batch Analysis (with example dataset)"
      ],
      "metadata": {
        "id": "Q0D7G5Kc7V8m"
      }
    },
    {
      "cell_type": "markdown",
      "source": [
        "### Nextclade df modification"
      ],
      "metadata": {
        "id": "fBvchgfr70I8"
      }
    },
    {
      "cell_type": "code",
      "source": [
        "import pandas as pd"
      ],
      "metadata": {
        "id": "qxdcKb4l7Tqb"
      },
      "execution_count": null,
      "outputs": []
    },
    {
      "cell_type": "code",
      "source": [
        "df = pd.read_csv('/data/Puja/All/Batch101/FASTQForAnalysis/SentinelHN/Batch101 - NextcladeSHN.csv')\n",
        "df = df.rename(columns={'seqName':'sampleId'})\n",
        "df = df[['sampleId', 'clade', 'lineage','Nextclade_pango', 'partiallyAliased', 'clade_nextstrain', 'clade_who', 'clade_display', 'qc.overallScore', 'totalSubstitutions', 'totalDeletions', 'aaSubstitutions', 'aaDeletions', 'aaInsertions']]\n",
        "# df.columns\n",
        "df"
      ],
      "metadata": {
        "id": "nTzHC3aM8tpO"
      },
      "execution_count": null,
      "outputs": []
    },
    {
      "cell_type": "markdown",
      "source": [
        "### Pangolin df modification"
      ],
      "metadata": {
        "id": "1i-jvQVu9EuL"
      }
    },
    {
      "cell_type": "code",
      "source": [
        "df1 = pd.read_csv('/data/Puja/All/Batch100/SentinelHN/lineage_report.csv')\n",
        "df1 = df1.rename(columns={'taxon':'sampleId'})\n",
        "df1 = df1[['sampleId', 'lineage']]\n",
        "df1"
      ],
      "metadata": {
        "id": "DLbHVtJe9A_A"
      },
      "execution_count": null,
      "outputs": []
    },
    {
      "cell_type": "markdown",
      "source": [
        "## NP merge"
      ],
      "metadata": {
        "id": "MonvapkA9H1J"
      }
    },
    {
      "cell_type": "code",
      "source": [
        "df_NP = pd.merge(df, df1, on='sampleId', how='inner')\n",
        "df_NP"
      ],
      "metadata": {
        "id": "y0oU2jrr9LYf"
      },
      "execution_count": null,
      "outputs": []
    },
    {
      "cell_type": "markdown",
      "source": [
        "### Metadata df modification"
      ],
      "metadata": {
        "id": "4HHzU9aG9PPy"
      }
    },
    {
      "cell_type": "code",
      "source": [
        "df2 = pd.read_csv('/data/Puja/All/Batch101/FASTQForAnalysis/SentinelHN/Batch101 - Copy of Metadata_SHN.csv')\n",
        "df2 = df2.rename(columns={'Sample ID given by the submitting laboratory':'sampleId'})\n",
        "df2"
      ],
      "metadata": {
        "id": "UW1EU54J9RY1"
      },
      "execution_count": null,
      "outputs": []
    },
    {
      "cell_type": "markdown",
      "source": [
        "### NPMeta merge"
      ],
      "metadata": {
        "id": "ffvcQyN49uDW"
      }
    },
    {
      "cell_type": "code",
      "source": [
        "df_NPmeta = pd.merge(df, df2, on='sampleId', how='inner')\n",
        "df_NPmeta"
      ],
      "metadata": {
        "id": "_aq_OfYt9ShS"
      },
      "execution_count": null,
      "outputs": []
    },
    {
      "cell_type": "markdown",
      "source": [
        "### NPMeta df motdification"
      ],
      "metadata": {
        "id": "GhhzMUGA9xHF"
      }
    },
    {
      "cell_type": "code",
      "source": [
        "df_NPmeta.dropna(subset=['lineage'], inplace=True)"
      ],
      "metadata": {
        "id": "voJbu9uK95Fz"
      },
      "execution_count": null,
      "outputs": []
    },
    {
      "cell_type": "code",
      "source": [
        "df_NPmeta['aaDeletions'] = df_NPmeta['aaDeletions'].apply(lambda x: '' if pd.isna(x) else x)\n",
        "df_NPmeta['aaSubstitutions'] = df_NPmeta['aaSubstitutions'].apply(lambda x: '' if pd.isna(x) else x)\n",
        "df_NPmeta['aaSubstitutions'] = df_NPmeta['aaSubstitutions'].str.split(',')\n",
        "df_NPmeta['aaDeletions'] = df_NPmeta['aaDeletions'].str.split(',')"
      ],
      "metadata": {
        "id": "539Wm0z_96kn"
      },
      "execution_count": null,
      "outputs": []
    },
    {
      "cell_type": "code",
      "source": [
        "df_NPmeta['aaSubDel'] = df_NPmeta['aaSubstitutions'] + df_NPmeta['aaDeletions']"
      ],
      "metadata": {
        "id": "i-gBI_gw9-kp"
      },
      "execution_count": null,
      "outputs": []
    },
    {
      "cell_type": "code",
      "source": [
        "df_NPmeta = df_NPmeta.drop(columns=['aaSubstitutions', 'aaDeletions'])\n",
        "df_NPmeta"
      ],
      "metadata": {
        "id": "flmKjlFm-CP5"
      },
      "execution_count": null,
      "outputs": []
    },
    {
      "cell_type": "markdown",
      "source": [
        "# Mutational Analysis"
      ],
      "metadata": {
        "id": "YuRRtg4j-lBy"
      }
    },
    {
      "cell_type": "markdown",
      "source": [
        "## Identifying unique lineages and generating their mutation count matrices to study mutation frequencies"
      ],
      "metadata": {
        "id": "fwwDEbw4_X3J"
      }
    },
    {
      "cell_type": "code",
      "source": [
        "df_NPmeta['lineage'].unique()"
      ],
      "metadata": {
        "id": "-G5gdjbg-nLR"
      },
      "execution_count": null,
      "outputs": []
    },
    {
      "cell_type": "code",
      "source": [
        "df_D = df_NPmeta[df_NPmeta['lineage'] == 'JN.1.11.1']\n",
        "df_D"
      ],
      "metadata": {
        "id": "GtL1A6JK_oGK"
      },
      "execution_count": null,
      "outputs": []
    },
    {
      "cell_type": "code",
      "source": [
        "# Initialize an empty DataFrame to store the counts\n",
        "count_df = pd.DataFrame()\n",
        "\n",
        "# Iterate over rows in the original DataFrame\n",
        "for index, row in df_D.iterrows():\n",
        "    sample_id = row['sampleId']\n",
        "    aa_sub_del_list = row['aaSubDel']\n",
        "\n",
        "    # Create a dictionary to store counts for each value in aaSubDel\n",
        "    counts = {}\n",
        "    for value in aa_sub_del_list:\n",
        "        counts[value] = counts.get(value, 0) + 1\n",
        "\n",
        "    # Create a DataFrame for the current sampleId\n",
        "    sample_df = pd.DataFrame(counts, index=[sample_id])\n",
        "\n",
        "    # Concatenate the sample DataFrame with the overall counts DataFrame\n",
        "    count_df = pd.concat([count_df, sample_df], sort=False)\n",
        "\n",
        "# Fill NaN values with 0 and reset index\n",
        "count_df = count_df.fillna(0).reset_index()\n",
        "\n",
        "# Rename the 'index' column to 'sampleId'\n",
        "count_df = count_df.rename(columns={'index': 'sampleId'})\n",
        "\n",
        "# Display the final DataFrame\n",
        "count_df"
      ],
      "metadata": {
        "id": "7_Ae44tZ_qc8"
      },
      "execution_count": null,
      "outputs": []
    },
    {
      "cell_type": "code",
      "source": [
        "count_df.to_csv('/data/Puja/All/Batch100/SentinelHN/KP2.csv')"
      ],
      "metadata": {
        "id": "IvlTlLj1AKxr"
      },
      "execution_count": null,
      "outputs": []
    },
    {
      "cell_type": "markdown",
      "source": [
        "# Weekly and Monthly Analyses (with example dataset)"
      ],
      "metadata": {
        "id": "8itABqHcAZvG"
      }
    },
    {
      "cell_type": "code",
      "source": [
        "df = pd.read_csv('/data/Puja/All/Singapore_India Trend - Sheet4.csv')\n",
        "df"
      ],
      "metadata": {
        "id": "KN0mmYUkC2vU"
      },
      "execution_count": null,
      "outputs": []
    },
    {
      "cell_type": "code",
      "source": [
        "# Count the number of unique lineages per week\n",
        "unique_lineages_per_week = df.groupby([\"Month\", \"Week\"])[\"Lineage\"].nunique()\n",
        "\n",
        "# Count the number of unique lineages per month\n",
        "unique_lineages_per_month = df.groupby(\"Month\")[\"Lineage\"].nunique()\n",
        "\n",
        "# Print the results\n",
        "print(\"Unique lineages per week:\")\n",
        "print(unique_lineages_per_week)\n",
        "\n",
        "print(\"\\nUnique lineages per month:\")\n",
        "print(unique_lineages_per_month)"
      ],
      "metadata": {
        "id": "XtB_j3JzC3kx"
      },
      "execution_count": null,
      "outputs": []
    },
    {
      "cell_type": "code",
      "source": [
        "lineage_counts_per_week = df.groupby([\"Week\", \"Lineage\"]).size().reset_index(name='Count')\n",
        "lineage_counts_per_month = df.groupby([\"Month\", \"Lineage\"]).size().reset_index(name='Count')"
      ],
      "metadata": {
        "id": "FwtWsy7oC_Ye"
      },
      "execution_count": null,
      "outputs": []
    },
    {
      "cell_type": "code",
      "source": [
        "lineage_counts_per_week.to_csv('countperweek.csv')\n",
        "lineage_counts_per_month.to_csv('countpermonth.csv')"
      ],
      "metadata": {
        "id": "18PWBkHSDDvB"
      },
      "execution_count": null,
      "outputs": []
    },
    {
      "cell_type": "code",
      "source": [
        "merged_df = pd.merge(lineage_counts_per_month, lineage_counts_per_week, on='Lineage', how='inner')\n",
        "merged_df"
      ],
      "metadata": {
        "id": "pe1UP-ZQDO3z"
      },
      "execution_count": null,
      "outputs": []
    },
    {
      "cell_type": "markdown",
      "source": [
        "# Fasta manipulations"
      ],
      "metadata": {
        "id": "B8ZzkkPQDdqb"
      }
    },
    {
      "cell_type": "markdown",
      "source": [
        "## Extract fasta ids from a fasta file"
      ],
      "metadata": {
        "id": "RbiAy8oXDtoL"
      }
    },
    {
      "cell_type": "code",
      "source": [
        "def extract_lines(input_file, output_file):\n",
        "    with open(input_file, 'r') as infile, open(output_file, 'w') as outfile:\n",
        "        for line in infile:\n",
        "            if line.startswith('>'):\n",
        "                outfile.write(line)\n",
        "\n",
        "# Example usage\n",
        "input_file = '/data/Puja/All/HN_combinedfasta.txt'  # Replace with your input file path\n",
        "output_file = '/data/Puja/All/HN_ids.txt'  # Replace with your desired output file path\n",
        "\n",
        "extract_lines(input_file, output_file)"
      ],
      "metadata": {
        "id": "ULA3ea5sDgLT"
      },
      "execution_count": null,
      "outputs": []
    },
    {
      "cell_type": "markdown",
      "source": [
        "## Fasta extaction using ids and a combined fasta file"
      ],
      "metadata": {
        "id": "taIsIu-kDzG0"
      }
    },
    {
      "cell_type": "code",
      "source": [
        "# List of IDs to match\n",
        "ids_to_match = [\n",
        "    \"VWA275\", \"VWA276\", \"VWA277\", \"VWA278\", \"VWA279\", \"VWA280\", \"VWA281\",\n",
        "    \"VWA282\", \"VWA283\", \"VWA285\", \"VWA286\", \"VWA287\", \"VWA288\", \"VWA289\"\n",
        "]\n",
        "\n",
        "# Input and output file paths\n",
        "input_fasta_file = '/data/Puja/All/batch85.fasta'\n",
        "output_fasta_file = '/data/Puja/All/Batch85.fasta'\n",
        "\n",
        "# Function to extract matching sequences\n",
        "def extract_matching_sequences(input_file, output_file, ids):\n",
        "    with open(input_file, 'r') as infile, open(output_file, 'w') as outfile:\n",
        "        write_sequence = False\n",
        "        for line in infile:\n",
        "            if line.startswith('>'):\n",
        "                # Check if the header contains any of the IDs\n",
        "                header = line.strip().split()[0][1:]  # Remove '>' and split to get the first part\n",
        "                if header in ids:\n",
        "                    write_sequence = True\n",
        "                    outfile.write(line)\n",
        "                else:\n",
        "                    write_sequence = False\n",
        "            elif write_sequence:\n",
        "                outfile.write(line)\n",
        "\n",
        "# Call the function to extract sequences\n",
        "extract_matching_sequences(input_fasta_file, output_fasta_file, ids_to_match)"
      ],
      "metadata": {
        "id": "6u_h_WwAD4G1"
      },
      "execution_count": null,
      "outputs": []
    },
    {
      "cell_type": "markdown",
      "source": [
        "# Wastewater"
      ],
      "metadata": {
        "id": "RFlf8IylD6mS"
      }
    },
    {
      "cell_type": "markdown",
      "source": [
        "## Freyja Demixed Lineage df analysis"
      ],
      "metadata": {
        "id": "XRrwRRlVhwwH"
      }
    },
    {
      "cell_type": "code",
      "source": [
        "df = pd.read_csv('/data/Puja/All/WWPreviousBatches/Waste_Water_Seq_Raw_Data_previous_batches.xlsx - Sheet2.csv')\n",
        "df"
      ],
      "metadata": {
        "id": "JkoE6SrphvTg"
      },
      "execution_count": null,
      "outputs": []
    },
    {
      "cell_type": "code",
      "source": [
        "#check type here\n",
        "type(df['lineages'][0])"
      ],
      "metadata": {
        "id": "lfWb-4JuijYc"
      },
      "execution_count": null,
      "outputs": []
    },
    {
      "cell_type": "code",
      "source": [
        "df['lineages'] = df['lineages'].apply(eval)\n",
        "df['abundances'] = df['abundances'].apply(eval)\n",
        "df['summarized'] = df['summarized'].apply(eval)"
      ],
      "metadata": {
        "id": "858U1WZ5m4FV"
      },
      "execution_count": null,
      "outputs": []
    },
    {
      "cell_type": "code",
      "source": [
        "df['lineages'] = df['lineages'].apply(lambda x: eval(x) if type(x)!= float else '')\n",
        "df['abundances'] = df['abundances'].apply(lambda x: eval(x) if type(x)!= float else '')"
      ],
      "metadata": {
        "id": "dIt7koLRuqVc"
      },
      "execution_count": null,
      "outputs": []
    },
    {
      "cell_type": "code",
      "source": [
        "df['lineages'] = df['lineages'].astype(str)\n",
        "df['abundances'] = df['abundances'].astype(str)"
      ],
      "metadata": {
        "id": "RAEiKexIusOb"
      },
      "execution_count": null,
      "outputs": []
    },
    {
      "cell_type": "code",
      "source": [
        "df['lineages'] = df['lineages'].str.split(',')\n",
        "df['abundances'] = df['abundances'].str.split(',')"
      ],
      "metadata": {
        "id": "vxVKSOphusvi"
      },
      "execution_count": null,
      "outputs": []
    },
    {
      "cell_type": "code",
      "source": [
        "df['lineage (abundances)'] = df.apply(lambda row: [f\"{lineage} ({abundance})\" for lineage, abundance in zip(row['lineages'], map(float, row['abundances']))], axis=1)"
      ],
      "metadata": {
        "id": "mRP-o-U1uvDH"
      },
      "execution_count": null,
      "outputs": []
    },
    {
      "cell_type": "code",
      "source": [
        "df.to_csv('/data/Puja/All/WWPreviousBatches/modifiedLineages.csv')"
      ],
      "metadata": {
        "id": "Zw5FXKHguxw_"
      },
      "execution_count": null,
      "outputs": []
    },
    {
      "cell_type": "markdown",
      "source": [
        "# Infection tracking on incremental data"
      ],
      "metadata": {
        "id": "3tc8pJBGYRhr"
      }
    },
    {
      "cell_type": "code",
      "source": [
        "# groupby lineage for unique mutations\n",
        "df_uniqueMutations = df_Rajasthan.groupby('lineage').agg(lambda x: list(x))\n",
        "df_uniqueMutations['aaSubDel'] = df_uniqueMutations['aaSubDel'].apply(lambda x: set([item for sublist in x for item in sublist]))\n",
        "df_uniqueMutations"
      ],
      "metadata": {
        "id": "MNzo1bDCYV-O"
      },
      "execution_count": null,
      "outputs": []
    },
    {
      "cell_type": "markdown",
      "source": [
        "## Mutations from outbreak table and samples"
      ],
      "metadata": {
        "id": "DGRM1c0IeP8_"
      }
    },
    {
      "cell_type": "code",
      "source": [
        "# Amino acid and sample mutation strings\n",
        "amino_acid_str = \"\"\"T9I A104V A63T Q19E G204R Q229K R203K S413R A211D A2710T G1307S K1973R L3027F N2526S P3395H T4175I V3593F P314L R1315C T223I S84L A570V D405N D614G E554K F486P G142D G339H I332V K356T K417N L216F N501Y N764K P1143L P621S Q498R S371F S373P S375F S477N T478K V213G D3H P13L S135R T3090I T3255I F19L D796Y del144/144 G446S N440K N460K N481K N679K N969K P681R Q183H R158G R408S V127F Y505H I1566V D61L E484K H655Y L452W L455S N450D Q954H S939F T376A V445H del212/212 N211I del3675/3677 T842I del31/33 R3821K T2163I S50L del483/483 V1056L del69/70 T30A R403K\"\"\"\n",
        "sample_mutation_str = \"\"\"S939F V1056L G204R T19I E2271G Q183H S375F S3675- R346T S135R F3677- Q19E I332V L452W T842I R403K K417N A2710T H245N L212I N28- P13L S33- D61L G339H S373P N679K D614G V3593F V213G R21T P10S F456L N460K A29- N211- P3395H P621S A63T P681R R32- S477N K1973R G446S L455S R158G V445H L216F E31- D3H F19L V127F N440K N969K T3255I Q954H S50L A211D F157S S413R A570V K356T G1307S N450D T9I Q229K I1566V H655Y N2526S D405N D796Y E27- L3674- R203K E554K R1315C G142D T2163I T376A A104V N764K S371F P1143L L3027F G3676- T223I P314L H69- V70- A264D T478K\"\"\"\n",
        "\n",
        "# Convert strings to lists\n",
        "amino_acid_list = amino_acid_str.split()\n",
        "sample_mutation_list = sample_mutation_str.split()\n",
        "\n",
        "# Find unique mutations\n",
        "unique_mutations = list(set(amino_acid_list) ^ set(sample_mutation_list))\n",
        "\n",
        "print(\"Unique Mutations:\", len(unique_mutations))"
      ],
      "metadata": {
        "id": "tJFf-x8-eDol"
      },
      "execution_count": null,
      "outputs": []
    },
    {
      "cell_type": "code",
      "source": [
        "amino_acid_mutations = [\n",
        "    \"A104V\", \"A211D\", \"A264D\", \"A2710T\", \"A570V\", \"A63T\", \"D3H\", \"D405N\", \"D614G\",\n",
        "    \"D61L\", \"D796Y\", \"del144/144\", \"del212/212\", \"del25/27\", \"del31/33\", \"del3675/3677\",\n",
        "    \"del483/483\", \"del69/70\", \"E484K\", \"E554K\", \"F157S\", \"F19L\", \"F486P\", \"G1307S\",\n",
        "    \"G142D\", \"G204R\", \"G339H\", \"G446S\", \"H245N\", \"H655Y\", \"I1566V\", \"I332V\", \"K1973R\",\n",
        "    \"K356T\", \"K417N\", \"L216F\", \"L24S\", \"L3027F\", \"L452W\", \"L455S\", \"N211I\", \"N2526S\",\n",
        "    \"N440K\", \"N450D\", \"N460K\", \"N481K\", \"N501Y\", \"N679K\", \"N764K\", \"N969K\", \"P1143L\",\n",
        "    \"P13L\", \"P314L\", \"P3395H\", \"P621S\", \"P681R\", \"Q19E\", \"Q229K\", \"Q498R\", \"Q954H\",\n",
        "    \"R1315C\", \"R158G\", \"R203K\", \"R21T\", \"R3821K\", \"R403K\", \"R408S\", \"S135R\", \"S371F\",\n",
        "    \"S373P\", \"S375F\", \"S413R\", \"S477N\", \"S50L\", \"S84L\", \"S939F\", \"T19I\", \"T2163I\",\n",
        "    \"T223I\", \"T3090I\", \"T30A\", \"T3255I\", \"T376A\", \"T4175I\", \"T478K\", \"T842I\", \"T9I\",\n",
        "    \"V1056L\", \"V1104L\", \"V127F\", \"V213G\", \"V3593F\", \"V445H\", \"Y505H\"\n",
        "]\n",
        "sample_mutations = [\n",
        "    \"A104V\", \"A211D\", \"A2710T\", \"A570V\", \"A63T\", \"D3H\", \"D405N\", \"D614G\", \"D796Y\",\n",
        "    \"E554K\", \"F157S\", \"F19L\", \"F3677-\", \"G1307S\", \"G142D\", \"G334S\", \"G339H\", \"G3676-\",\n",
        "    \"H245N\", \"H655Y\", \"I1566V\", \"I332V\", \"I71T\", \"K1973R\", \"K356T\", \"K417N\", \"L149P\",\n",
        "    \"L212I\", \"L3027F\", \"N211-\", \"N2526S\", \"N679K\", \"N764K\", \"N969K\", \"P10S\", \"P13L\",\n",
        "    \"P314L\", \"P621S\", \"P681R\", \"Q19E\", \"Q954H\", \"R1315C\", \"R158G\", \"R3821K\", \"R403K\",\n",
        "    \"R408S\", \"S135R\", \"S166G\", \"S3675-\", \"S371F\", \"S373P\", \"S375F\", \"S413R\", \"S939F\",\n",
        "    \"T2163I\", \"T223I\", \"T3032I\", \"T3090I\", \"T3255I\", \"T34P\", \"T376A\", \"T4175I\", \"T842I\",\n",
        "    \"T899I\", \"T9I\", \"V1056L\", \"V1104L\", \"V127F\", \"V213G\", \"V3593F\"\n",
        "]\n",
        "unique_mutations = list(set(amino_acid_mutations) ^ set(sample_mutations))\n",
        "\n",
        "print(\"Unique Mutations:\", unique_mutations)"
      ],
      "metadata": {
        "id": "-zdWKg9GeVNT"
      },
      "execution_count": null,
      "outputs": []
    },
    {
      "cell_type": "markdown",
      "source": [
        "## Mutational Matrix"
      ],
      "metadata": {
        "id": "Qr0J21oFgzGQ"
      }
    },
    {
      "cell_type": "code",
      "source": [
        "# Define the data for BA.2 and BA.2.86\n",
        "JN1_11_1_data = \"E:T9I\tM:A104V\tM:A63T\tM:D3H\tM:Q19E\tM:T30A\tN:del31/31\tN:del32/32\tN:del33/33\tN:G204R\tN:P13L\tN:Q229K\tN:R203K\tN:S413R\tORF1a:A211D\tORF1a:A2710T\tORF1a:del3675/3675\tORF1a:del3676/3676\tORF1a:del3677/3677\tORF1a:G1307S\tORF1a:K1973R\tORF1a:L3027F\tORF1a:N2526S\tORF1a:P3395H\tORF1a:R3821K\tORF1a:S135R\tORF1a:T2283I\tORF1a:T3090I\tORF1a:T3255I\tORF1a:T4175I\tORF1a:T842I\tORF1a:V1056L\tORF1a:V3593F\tORF1b:I1566V\tORF1b:P314L\tORF1b:R1315C\tORF1b:T2163I\tORF3a:T223I\tORF6:D61L\tORF7b:F19L\tORF8:S84L\tS:A264D\tS:A570V\tS:D405N\tS:D614G\tS:D796Y\tS:del144/144\tS:del212/212\tS:del25/25\tS:del26/26\tS:del27/27\tS:del483/483\tS:del69/69\tS:del70/70\tS:E484K\tS:E554K\tS:F157S\tS:F456L\tS:F486P\tS:G142D\tS:G339H\tS:G446S\tS:H245N\tS:H655Y\tS:I332V\tS:K356T\tS:K417N\tS:L216F\tS:L24S\tS:L452W\tS:L455S\tS:N211I\tS:N440K\tS:N450D\tS:N460K\tS:N481K\tS:N501Y\tS:N679K\tS:N764K\tS:N969K\tS:P1143L\tS:P621S\tS:P681R\tS:Q498R\tS:Q954H\tS:R158G\tS:R21T\tS:R403K\tS:R408S\tS:S371F\tS:S373P\tS:S375F\tS:S477N\tS:S50L\tS:S939F\tS:T19I\tS:T376A\tS:T478K\tS:V1104L\tS:V127F\tS:V213G\tS:V445H\tS:Y505H\"\n",
        "KP4_data = \"E:T9I M:A104V M:A63T M:D3H M:Q19E N:G204R N:P13L N:Q229K N:R203K N:S413R ORF1a:A211D ORF1a:A2710T ORF1a:G1307S ORF1a:K1973R ORF1a:L3027F ORF1a:N2526S ORF1a:P3395H ORF1a:R3821K ORF1a:S135R ORF1a:T2283I ORF1a:T3090I ORF1a:T3255I ORF1a:T4175I ORF1a:T842I ORF1a:V1056L ORF1a:V3593F ORF1b:I1566V ORF1b:P314L ORF1b:R1315C ORF1b:T2163I ORF3a:T223I ORF6:D61L ORF7b:F19L ORF8:S84L S:A264D S:A570V S:D405N S:D614G S:del212/212 S:E484K S:E554K S:F157S S:F456L S:F486P S:G142D S:G339H S:G446S S:H245N S:H655Y S:I332V S:K356T S:K417N S:L216F S:L452W S:L455S S:N211I S:N440K S:N450D S:N460K S:N501Y S:N679K S:N764K S:N969K S:P1143L S:P621S S:P681R S:Q498R S:Q954H S:R158G S:R408S S:S371F S:S373P S:S375F S:S477N S:S50L S:S939F S:T376A S:T478K S:V1104L S:V127F S:V213G S:V445H S:Y505H S:N481K\"\n",
        "# Convert the data strings into lists\n",
        "JN1_11_1_list = JN1_11_1_data.split()\n",
        "KP4_list = KP4_data.split()\n",
        "\n",
        "# Find the extra mutations in BA.2.86 compared to BA.2\n",
        "extra_mutations = [mutation for mutation in JN1_11_1_list if mutation not in KP4_list]\n",
        "\n",
        "# Print the extra mutations\n",
        "print(extra_mutations)"
      ],
      "metadata": {
        "id": "9gh14bcZg08P"
      },
      "execution_count": null,
      "outputs": []
    },
    {
      "cell_type": "markdown",
      "source": [
        "# GISAID metadata search (sample scrap search wrt labs)"
      ],
      "metadata": {
        "id": "a3J7rZiJhBfC"
      }
    },
    {
      "cell_type": "code",
      "source": [
        "df = pd.read_csv('/data/Puja/All/metadata_2024-04-14_04-01.tsv', sep='\\t')\n",
        "df"
      ],
      "metadata": {
        "id": "7A-iXjCphFE4"
      },
      "execution_count": null,
      "outputs": []
    },
    {
      "cell_type": "code",
      "source": [
        "df1 = df[df['country'] == 'India']\n",
        "df1.columns"
      ],
      "metadata": {
        "id": "Rdxln6pAhLk7"
      },
      "execution_count": null,
      "outputs": []
    },
    {
      "cell_type": "code",
      "source": [
        "df3 = df1[df1['location'] == 'Kolkata']\n",
        "df4 = df[df['originating_lab'].str.contains('Apollo Kolkata')]\n",
        "df4"
      ],
      "metadata": {
        "id": "GjCYB95MhPKd"
      },
      "execution_count": null,
      "outputs": []
    },
    {
      "cell_type": "code",
      "source": [
        "df3['originating_lab'].unique()"
      ],
      "metadata": {
        "id": "Bst_eEIEhW-o"
      },
      "execution_count": null,
      "outputs": []
    },
    {
      "cell_type": "code",
      "source": [
        "df2['originating_lab'].unique()"
      ],
      "metadata": {
        "id": "r2q7FUGEhXyr"
      },
      "execution_count": null,
      "outputs": []
    },
    {
      "cell_type": "code",
      "source": [
        "labs = df1['originating_lab'].unique()"
      ],
      "metadata": {
        "id": "5mjR6OBzhf92"
      },
      "execution_count": null,
      "outputs": []
    }
  ]
}